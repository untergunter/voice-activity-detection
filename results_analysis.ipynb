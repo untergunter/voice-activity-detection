{
 "cells": [
  {
   "cell_type": "code",
   "execution_count": 46,
   "id": "incoming-linux",
   "metadata": {},
   "outputs": [],
   "source": [
    "import pandas as pd\n",
    "import numpy as np\n",
    "import matplotlib.pyplot as plt\n",
    "import seaborn as sns\n",
    "import os\n",
    "from pathlib import Path\n",
    "import pathlib"
   ]
  },
  {
   "cell_type": "code",
   "execution_count": 20,
   "id": "improving-prime",
   "metadata": {},
   "outputs": [
    {
     "name": "stdout",
     "output_type": "stream",
     "text": [
      "/home/ido/data/idc/deep learning/vad/models_results/.ipynb_checkpoints/naive_net-checkpoint.csv\n",
      "/home/ido/data/idc/deep learning/vad/models_results/.ipynb_checkpoints/basic_rnn_no_delta_training-checkpoint.csv\n"
     ]
    }
   ],
   "source": [
    "for results_file in Path(os.getcwd()+os.path.sep+'models_results').rglob('*.csv'):\n",
    "    if 'point' in str(results_file):\n",
    "        print(results_file)"
   ]
  },
  {
   "cell_type": "code",
   "execution_count": 21,
   "id": "absent-florist",
   "metadata": {},
   "outputs": [
    {
     "name": "stdout",
     "output_type": "stream",
     "text": [
      "97774\n"
     ]
    },
    {
     "data": {
      "text/html": [
       "<div>\n",
       "<style scoped>\n",
       "    .dataframe tbody tr th:only-of-type {\n",
       "        vertical-align: middle;\n",
       "    }\n",
       "\n",
       "    .dataframe tbody tr th {\n",
       "        vertical-align: top;\n",
       "    }\n",
       "\n",
       "    .dataframe thead th {\n",
       "        text-align: right;\n",
       "    }\n",
       "</style>\n",
       "<table border=\"1\" class=\"dataframe\">\n",
       "  <thead>\n",
       "    <tr style=\"text-align: right;\">\n",
       "      <th></th>\n",
       "      <th>base_name</th>\n",
       "      <th>noise</th>\n",
       "      <th>snr</th>\n",
       "      <th>accuracy</th>\n",
       "      <th>model_name</th>\n",
       "      <th>batch</th>\n",
       "      <th>no_delta</th>\n",
       "    </tr>\n",
       "  </thead>\n",
       "  <tbody>\n",
       "    <tr>\n",
       "      <th>0</th>\n",
       "      <td>ch1_3752-4944-0008.gzip</td>\n",
       "      <td>pink</td>\n",
       "      <td>12</td>\n",
       "      <td>100.000000</td>\n",
       "      <td>batch_rnn_no_delta</td>\n",
       "      <td>True</td>\n",
       "      <td>True</td>\n",
       "    </tr>\n",
       "    <tr>\n",
       "      <th>1</th>\n",
       "      <td>ch1_3752-4944-0008.gzip</td>\n",
       "      <td>white</td>\n",
       "      <td>12</td>\n",
       "      <td>100.000000</td>\n",
       "      <td>batch_rnn_no_delta</td>\n",
       "      <td>True</td>\n",
       "      <td>True</td>\n",
       "    </tr>\n",
       "    <tr>\n",
       "      <th>2</th>\n",
       "      <td>ch1_84-121123-0000.gzip</td>\n",
       "      <td>car80</td>\n",
       "      <td>12</td>\n",
       "      <td>99.230769</td>\n",
       "      <td>batch_rnn_no_delta</td>\n",
       "      <td>True</td>\n",
       "      <td>True</td>\n",
       "    </tr>\n",
       "    <tr>\n",
       "      <th>3</th>\n",
       "      <td>ch1_84-121123-0000.gzip</td>\n",
       "      <td>car80</td>\n",
       "      <td>6</td>\n",
       "      <td>99.230769</td>\n",
       "      <td>batch_rnn_no_delta</td>\n",
       "      <td>True</td>\n",
       "      <td>True</td>\n",
       "    </tr>\n",
       "    <tr>\n",
       "      <th>4</th>\n",
       "      <td>ch1_84-121123-0000.gzip</td>\n",
       "      <td>white</td>\n",
       "      <td>12</td>\n",
       "      <td>98.461538</td>\n",
       "      <td>batch_rnn_no_delta</td>\n",
       "      <td>True</td>\n",
       "      <td>True</td>\n",
       "    </tr>\n",
       "  </tbody>\n",
       "</table>\n",
       "</div>"
      ],
      "text/plain": [
       "                 base_name  noise  snr    accuracy          model_name  batch  \\\n",
       "0  ch1_3752-4944-0008.gzip   pink   12  100.000000  batch_rnn_no_delta   True   \n",
       "1  ch1_3752-4944-0008.gzip  white   12  100.000000  batch_rnn_no_delta   True   \n",
       "2  ch1_84-121123-0000.gzip  car80   12   99.230769  batch_rnn_no_delta   True   \n",
       "3  ch1_84-121123-0000.gzip  car80    6   99.230769  batch_rnn_no_delta   True   \n",
       "4  ch1_84-121123-0000.gzip  white   12   98.461538  batch_rnn_no_delta   True   \n",
       "\n",
       "   no_delta  \n",
       "0      True  \n",
       "1      True  \n",
       "2      True  \n",
       "3      True  \n",
       "4      True  "
      ]
     },
     "execution_count": 21,
     "metadata": {},
     "output_type": "execute_result"
    }
   ],
   "source": [
    "results = []\n",
    "for results_file in Path(os.getcwd()+os.path.sep+'models_results').rglob('*.csv'):\n",
    "    if 'training' in str(results_file):continue\n",
    "    if '.ipynb' in str(results_file):continue\n",
    "    results_df = pd.read_csv(results_file)\n",
    "    if not 'base_name' in results_df.columns:\n",
    "        results_df['base_name']=results_df['file_number']\n",
    "    results_df = results_df[['base_name' ,'noise','snr','accuracy']]\n",
    "    file_name = str(results_file).rsplit(os.path.sep)[-1].split('.')[0]\n",
    "    results_df['model_name'] = file_name\n",
    "    results_df['batch'] = results_df['model_name'].str.contains('batch')\n",
    "    results_df['no_delta'] = results_df['model_name'].str.contains('no_delta')\n",
    "    results.append(results_df)\n",
    "    \n",
    "models_performances = pd.concat(results)\n",
    "print(len(models_performances))\n",
    "models_performances.head()"
   ]
  },
  {
   "cell_type": "code",
   "execution_count": 33,
   "id": "covered-change",
   "metadata": {},
   "outputs": [
    {
     "data": {
      "image/png": "[encoded data removed]",
      "text/plain": [
       "<Figure size 432x288 with 1 Axes>"
      ]
     },
     "metadata": {
      "needs_background": "light"
     },
     "output_type": "display_data"
    }
   ],
   "source": [
    "#so how is the best model?\n",
    "order = models_performances.groupby(by=[\"model_name\"])[\"accuracy\"].mean().sort_values().index\n",
    "p = sns.boxplot(x=\"model_name\" ,y=\"accuracy\",data=models_performances\n",
    "            , order=order)\n",
    "for label in p.get_xticklabels():\n",
    "    label.set_rotation(90)\n",
    "p.figure.savefig(\"plots/accuracy_per_model.png\",dpi=300, bbox_inches = \"tight\")"
   ]
  },
  {
   "cell_type": "code",
   "execution_count": 34,
   "id": "continuous-depression",
   "metadata": {},
   "outputs": [
    {
     "data": {
      "image/png": "[encoded data removed]",
      "text/plain": [
       "<Figure size 432x288 with 1 Axes>"
      ]
     },
     "metadata": {
      "needs_background": "light"
     },
     "output_type": "display_data"
    }
   ],
   "source": [
    "# sainety cheak - are we doing better the higher the snr is?\n",
    "order = models_performances.groupby(by=[\"snr\"])[\"accuracy\"].mean().sort_values().index\n",
    "p = sns.boxplot(x=\"snr\", y=\"accuracy\",\n",
    "            data=models_performances\n",
    "            , order=order)\n",
    "for label in p.get_xticklabels():\n",
    "    label.set_rotation(45)\n",
    "p.figure.savefig(\"plots/accuracy_per_snr.png\",dpi=300, bbox_inches = \"tight\")"
   ]
  },
  {
   "cell_type": "code",
   "execution_count": 35,
   "id": "mediterranean-mechanism",
   "metadata": {},
   "outputs": [
    {
     "data": {
      "image/png": "[encoded data removed]",
      "text/plain": [
       "<Figure size 432x288 with 1 Axes>"
      ]
     },
     "metadata": {
      "needs_background": "light"
     },
     "output_type": "display_data"
    }
   ],
   "source": [
    "# which noise type is the hardest to get?\n",
    "order = models_performances.groupby(by=[\"noise\"])[\"accuracy\"].mean().sort_values().index\n",
    "p = sns.boxplot(x=\"noise\", y=\"accuracy\",\n",
    "            data=models_performances\n",
    "                ,order=order)\n",
    "for label in p.get_xticklabels():\n",
    "    label.set_rotation(45)\n",
    "p.figure.savefig(\"plots/accuracy_per_noise.png\",dpi=300, bbox_inches = \"tight\")"
   ]
  },
  {
   "cell_type": "code",
   "execution_count": 28,
   "id": "prescription-turner",
   "metadata": {},
   "outputs": [
    {
     "data": {
      "text/html": [
       "<div>\n",
       "<style scoped>\n",
       "    .dataframe tbody tr th:only-of-type {\n",
       "        vertical-align: middle;\n",
       "    }\n",
       "\n",
       "    .dataframe tbody tr th {\n",
       "        vertical-align: top;\n",
       "    }\n",
       "\n",
       "    .dataframe thead th {\n",
       "        text-align: right;\n",
       "    }\n",
       "</style>\n",
       "<table border=\"1\" class=\"dataframe\">\n",
       "  <thead>\n",
       "    <tr style=\"text-align: right;\">\n",
       "      <th></th>\n",
       "      <th>model</th>\n",
       "      <th>time</th>\n",
       "      <th>seconds</th>\n",
       "    </tr>\n",
       "  </thead>\n",
       "  <tbody>\n",
       "    <tr>\n",
       "      <th>0</th>\n",
       "      <td>batch_rnn_no_delta</td>\n",
       "      <td>3470</td>\n",
       "      <td>3470</td>\n",
       "    </tr>\n",
       "    <tr>\n",
       "      <th>1</th>\n",
       "      <td>batch_rnn</td>\n",
       "      <td>3236</td>\n",
       "      <td>3236</td>\n",
       "    </tr>\n",
       "    <tr>\n",
       "      <th>2</th>\n",
       "      <td>batch_naive_net</td>\n",
       "      <td>202</td>\n",
       "      <td>202</td>\n",
       "    </tr>\n",
       "    <tr>\n",
       "      <th>3</th>\n",
       "      <td>batch_deep_neural_net_no_delta</td>\n",
       "      <td>199</td>\n",
       "      <td>199</td>\n",
       "    </tr>\n",
       "    <tr>\n",
       "      <th>4</th>\n",
       "      <td>batch_deep_neural_net</td>\n",
       "      <td>178</td>\n",
       "      <td>178</td>\n",
       "    </tr>\n",
       "    <tr>\n",
       "      <th>5</th>\n",
       "      <td>batch_logistic_regression</td>\n",
       "      <td>175</td>\n",
       "      <td>175</td>\n",
       "    </tr>\n",
       "    <tr>\n",
       "      <th>6</th>\n",
       "      <td>logistic_regression</td>\n",
       "      <td>15</td>\n",
       "      <td>15</td>\n",
       "    </tr>\n",
       "    <tr>\n",
       "      <th>7</th>\n",
       "      <td>naive_net</td>\n",
       "      <td>15</td>\n",
       "      <td>15</td>\n",
       "    </tr>\n",
       "  </tbody>\n",
       "</table>\n",
       "</div>"
      ],
      "text/plain": [
       "                            model  time  seconds\n",
       "0              batch_rnn_no_delta  3470     3470\n",
       "1                       batch_rnn  3236     3236\n",
       "2                 batch_naive_net   202      202\n",
       "3  batch_deep_neural_net_no_delta   199      199\n",
       "4           batch_deep_neural_net   178      178\n",
       "5       batch_logistic_regression   175      175\n",
       "6             logistic_regression    15       15\n",
       "7                       naive_net    15       15"
      ]
     },
     "execution_count": 28,
     "metadata": {},
     "output_type": "execute_result"
    }
   ],
   "source": [
    "training_time = pd.read_csv('training_time.csv')\n",
    "training_time['seconds'] = training_time['time']\n",
    "training_time"
   ]
  },
  {
   "cell_type": "code",
   "execution_count": 36,
   "id": "written-plant",
   "metadata": {},
   "outputs": [
    {
     "data": {
      "image/png": "[encoded data removed]",
      "text/plain": [
       "<Figure size 432x288 with 1 Axes>"
      ]
     },
     "metadata": {
      "needs_background": "light"
     },
     "output_type": "display_data"
    }
   ],
   "source": [
    "p = sns.barplot(x='model',y='seconds',data = training_time)\n",
    "for label in p.get_xticklabels():\n",
    "    label.set_rotation(90)\n",
    "p.figure.savefig(\"plots/training_time.png\",dpi=300, bbox_inches = \"tight\")"
   ]
  },
  {
   "cell_type": "code",
   "execution_count": 48,
   "id": "designing-verification",
   "metadata": {},
   "outputs": [
    {
     "data": {
      "image/png": "[encoded data removed]",
      "text/plain": [
       "<Figure size 432x288 with 1 Axes>"
      ]
     },
     "metadata": {
      "needs_background": "light"
     },
     "output_type": "display_data"
    }
   ],
   "source": [
    "for model_name in models_performances['model_name'].unique():\n",
    "    \n",
    "    folder = pathlib.Path(f'plots/{model_name}')\n",
    "    folder.mkdir(exist_ok=True)\n",
    "\n",
    "    subseted = models_performances[models_performances['model_name']==model_name]\n",
    "    \n",
    "    \n",
    "    order = subseted.groupby(by=[\"snr\"])[\"accuracy\"].mean().sort_values().index\n",
    "    plt.cla()\n",
    "    p = sns.boxplot(x=\"snr\", y=\"accuracy\",\n",
    "                data=subseted\n",
    "                , order=order)\n",
    "    p.set_title(model_name)\n",
    "    for label in p.get_xticklabels():\n",
    "        label.set_rotation(45)\n",
    "    p.figure.savefig(f\"plots/{model_name}/accuracy_per_snr.png\",dpi=300, bbox_inches = \"tight\")\n",
    "    \n",
    "    \n",
    "    order = subseted.groupby(by=[\"noise\"])[\"accuracy\"].mean().sort_values().index\n",
    "    plt.cla()\n",
    "    p = sns.boxplot(x=\"noise\", y=\"accuracy\",\n",
    "                data=subseted\n",
    "                    ,order=order)\n",
    "    p.set_title(model_name)\n",
    "    for label in p.get_xticklabels():\n",
    "        label.set_rotation(45)\n",
    "    p.figure.savefig(f\"plots/{model_name}/accuracy_per_noise.png\",dpi=300, bbox_inches = \"tight\")"
   ]
  },
  {
   "cell_type": "code",
   "execution_count": null,
   "id": "finite-arabic",
   "metadata": {},
   "outputs": [],
   "source": []
  }
 ],
 "metadata": {
  "kernelspec": {
   "display_name": "Python 3",
   "language": "python",
   "name": "python3"
  },
  "language_info": {
   "codemirror_mode": {
    "name": "ipython",
    "version": 3
   },
   "file_extension": ".py",
   "mimetype": "text/x-python",
   "name": "python",
   "nbconvert_exporter": "python",
   "pygments_lexer": "ipython3",
   "version": "3.8.6"
  }
 },
 "nbformat": 4,
 "nbformat_minor": 5
}
